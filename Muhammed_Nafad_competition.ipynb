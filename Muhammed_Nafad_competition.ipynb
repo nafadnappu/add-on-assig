{
  "nbformat": 4,
  "nbformat_minor": 0,
  "metadata": {
    "colab": {
      "provenance": []
    },
    "kernelspec": {
      "name": "python3",
      "display_name": "Python 3"
    },
    "language_info": {
      "name": "python"
    }
  },
  "cells": [
    {
      "cell_type": "code",
      "execution_count": 2,
      "metadata": {
        "colab": {
          "base_uri": "https://localhost:8080/",
          "height": 36
        },
        "id": "wvubY3SpMw0R",
        "outputId": "ecd052cd-8c49-4887-d430-d13109290b5c"
      },
      "outputs": [
        {
          "output_type": "execute_result",
          "data": {
            "text/plain": [
              "'Write a Python function to accept a string value from the user and display the\\ncount of each character in that string.'"
            ],
            "application/vnd.google.colaboratory.intrinsic+json": {
              "type": "string"
            }
          },
          "metadata": {},
          "execution_count": 2
        }
      ],
      "source": [
        "'''Write a Python function to accept a string value from the user and display the\n",
        "count of each character in that string.'''\n"
      ]
    },
    {
      "cell_type": "code",
      "source": [
        "def count_characters(string):\n",
        " character_counts = {}\n",
        "for char in string:\n",
        "  if character in counts:\n",
        "return char_count\n",
        " string = str(input('ente a string value:'))\n",
        " character_count = count_string(string)\n",
        "   print(f'{character}={count}')"
      ],
      "metadata": {
        "colab": {
          "base_uri": "https://localhost:8080/",
          "height": 111
        },
        "id": "czbhsf-9SG7w",
        "outputId": "f9a90fc0-905d-4b8a-c813-78cacb2ec2df"
      },
      "execution_count": 30,
      "outputs": [
        {
          "output_type": "error",
          "ename": "IndentationError",
          "evalue": "expected an indented block after 'if' statement on line 4 (<ipython-input-30-e6857d3140ad>, line 5)",
          "traceback": [
            "\u001b[0;36m  File \u001b[0;32m\"<ipython-input-30-e6857d3140ad>\"\u001b[0;36m, line \u001b[0;32m5\u001b[0m\n\u001b[0;31m    return char_count\u001b[0m\n\u001b[0m                     ^\u001b[0m\n\u001b[0;31mIndentationError\u001b[0m\u001b[0;31m:\u001b[0m expected an indented block after 'if' statement on line 4\n"
          ]
        }
      ]
    },
    {
      "cell_type": "code",
      "source": [
        "'''Write a Python function to find the maximum of three numbers'''"
      ],
      "metadata": {
        "colab": {
          "base_uri": "https://localhost:8080/",
          "height": 36
        },
        "id": "Fkng4UX9UGlw",
        "outputId": "305b6809-08eb-4e3f-f857-5f779d979ecc"
      },
      "execution_count": 18,
      "outputs": [
        {
          "output_type": "execute_result",
          "data": {
            "text/plain": [
              "'Write a Python function to find the maximum of three numbers'"
            ],
            "application/vnd.google.colaboratory.intrinsic+json": {
              "type": "string"
            }
          },
          "metadata": {},
          "execution_count": 18
        }
      ]
    },
    {
      "cell_type": "code",
      "source": [
        "x = int(input('enter the first number:'))\n",
        "y = int(input('enter the second number:'))\n",
        "z = int(input('enter the third number:'))\n",
        "if x>y and x>z:\n",
        "  print(x,'is the largest')\n",
        "elif y>a and y>z:\n",
        "  print(y,'is the largest')\n",
        "else:\n",
        "  print(z,'is the largest')"
      ],
      "metadata": {
        "colab": {
          "base_uri": "https://localhost:8080/"
        },
        "id": "tvV0oZDAaNQP",
        "outputId": "322b177c-d091-476e-ef11-0b9a494583db"
      },
      "execution_count": 26,
      "outputs": [
        {
          "output_type": "stream",
          "name": "stdout",
          "text": [
            "enter the first number:10\n",
            "enter the second number:7\n",
            "enter the third number:5\n",
            "10 is the largest\n"
          ]
        }
      ]
    },
    {
      "cell_type": "code",
      "source": [
        "'''Write a Python function called exponent(base,exp) that returns an integer\n",
        "value of base raises to the power of exp'''"
      ],
      "metadata": {
        "colab": {
          "base_uri": "https://localhost:8080/",
          "height": 36
        },
        "id": "ofI-iZL8dM4X",
        "outputId": "c80c3644-d5e0-43e4-9591-0d8b737d4483"
      },
      "execution_count": 28,
      "outputs": [
        {
          "output_type": "execute_result",
          "data": {
            "text/plain": [
              "'Write a Python function called exponent(base,exp) that returns an integer\\nvalue of base raises to the power of exp'"
            ],
            "application/vnd.google.colaboratory.intrinsic+json": {
              "type": "string"
            }
          },
          "metadata": {},
          "execution_count": 28
        }
      ]
    },
    {
      "cell_type": "code",
      "source": [
        "def exponent(base,exp):\n",
        "  return(base**exp)\n",
        "base=int(input('Enter the base value:'))\n",
        "exp=int(input('Enter the exponent value:'))\n",
        "\n",
        "print(exponent(base,exp))\n",
        "\n",
        "\n"
      ],
      "metadata": {
        "colab": {
          "base_uri": "https://localhost:8080/"
        },
        "id": "cCNXkICRfhd3",
        "outputId": "0070ffb8-94fc-4f7f-e8c9-8ca9f7dff6de"
      },
      "execution_count": 39,
      "outputs": [
        {
          "output_type": "stream",
          "name": "stdout",
          "text": [
            "Enter the base value:2\n",
            "Enter the exponent value:3\n",
            "8\n"
          ]
        }
      ]
    },
    {
      "cell_type": "code",
      "source": [
        "'''Write a Python function to convert temperatures to and from Celsius\n",
        "Fahrenheit. [Formula: c/5=f-32/9 where c=temperature in Celsius and f=\n",
        "temperature in Fahrenheit.]'''"
      ],
      "metadata": {
        "colab": {
          "base_uri": "https://localhost:8080/",
          "height": 36
        },
        "id": "ef13YaMLhv99",
        "outputId": "7a17cd85-6b18-4bbc-e3f7-5cfdb79de226"
      },
      "execution_count": 40,
      "outputs": [
        {
          "output_type": "execute_result",
          "data": {
            "text/plain": [
              "'Write a Python function to convert temperatures to and from Celsius\\nFahrenheit. [Formula: c/5=f-32/9 where c=temperature in Celsius and f=\\ntemperature in Fahrenheit.]'"
            ],
            "application/vnd.google.colaboratory.intrinsic+json": {
              "type": "string"
            }
          },
          "metadata": {},
          "execution_count": 40
        }
      ]
    },
    {
      "cell_type": "code",
      "source": [
        "c = float(input('enter the celsius:'))\n",
        "f = (c * 9/5)+ 32\n",
        "print('the temparature in fahrenheit is:',f)"
      ],
      "metadata": {
        "colab": {
          "base_uri": "https://localhost:8080/"
        },
        "id": "suaV0wFcqxfx",
        "outputId": "d5125043-bb9d-4c78-e971-063926d5015a"
      },
      "execution_count": 43,
      "outputs": [
        {
          "output_type": "stream",
          "name": "stdout",
          "text": [
            "enter the celsius:48\n",
            "the temparature in fahrenheit is: 118.4\n"
          ]
        }
      ]
    },
    {
      "cell_type": "code",
      "source": [
        "'''Write a Python program using for loop that will iterate from 1 to 15. For each\n",
        "iteration, check if the current number is odd or even, and display the message\n",
        "to the screen as odd or even'''"
      ],
      "metadata": {
        "colab": {
          "base_uri": "https://localhost:8080/",
          "height": 55
        },
        "id": "XYdOpcgCsfew",
        "outputId": "2a7c8d91-85f8-4b9a-843d-b11d16383699"
      },
      "execution_count": 44,
      "outputs": [
        {
          "output_type": "execute_result",
          "data": {
            "text/plain": [
              "'Write a Python program using for loop that will iterate from 1 to 15. For each\\niteration, check if the current number is odd or even, and display the message\\nto the screen as odd or even'"
            ],
            "application/vnd.google.colaboratory.intrinsic+json": {
              "type": "string"
            }
          },
          "metadata": {},
          "execution_count": 44
        }
      ]
    },
    {
      "cell_type": "code",
      "source": [
        "for num in range(1,16):\n",
        "  if num % 2 == 0:\n",
        "    print(num,'is an even number:')\n",
        "  else:\n",
        "    print(num,'is an odd number:')\n"
      ],
      "metadata": {
        "colab": {
          "base_uri": "https://localhost:8080/"
        },
        "id": "XwQr-3MztEbY",
        "outputId": "ca7e09ff-40c0-454e-8ef2-9453eb0a31a8"
      },
      "execution_count": 47,
      "outputs": [
        {
          "output_type": "stream",
          "name": "stdout",
          "text": [
            "1 is an odd number:\n",
            "2 is an even number:\n",
            "3 is an odd number:\n",
            "4 is an even number:\n",
            "5 is an odd number:\n",
            "6 is an even number:\n",
            "7 is an odd number:\n",
            "8 is an even number:\n",
            "9 is an odd number:\n",
            "10 is an even number:\n",
            "11 is an odd number:\n",
            "12 is an even number:\n",
            "13 is an odd number:\n",
            "14 is an even number:\n",
            "15 is an odd number:\n"
          ]
        }
      ]
    },
    {
      "cell_type": "code",
      "source": [
        "''' Write a Python function to find the sum of squares of the numbers in a list'''"
      ],
      "metadata": {
        "colab": {
          "base_uri": "https://localhost:8080/",
          "height": 36
        },
        "id": "k2zYDnhSuU__",
        "outputId": "77abc51c-06c8-4cae-9e06-a816b4ab7865"
      },
      "execution_count": 48,
      "outputs": [
        {
          "output_type": "execute_result",
          "data": {
            "text/plain": [
              "' Write a Python function to find the sum of squares of the numbers in a list'"
            ],
            "application/vnd.google.colaboratory.intrinsic+json": {
              "type": "string"
            }
          },
          "metadata": {},
          "execution_count": 48
        }
      ]
    },
    {
      "cell_type": "code",
      "source": [
        "l1=(2,3,3,2,1)\n",
        "sum=0\n",
        "for num in l1:\n",
        "  x = num**2\n",
        "  sum = sum+x\n",
        "print(sum)"
      ],
      "metadata": {
        "colab": {
          "base_uri": "https://localhost:8080/"
        },
        "id": "gdEW_s4Cxasq",
        "outputId": "1f4f9c92-f92f-43a7-bb84-57065f404b1c"
      },
      "execution_count": 69,
      "outputs": [
        {
          "output_type": "stream",
          "name": "stdout",
          "text": [
            "27\n"
          ]
        }
      ]
    },
    {
      "cell_type": "code",
      "source": [
        "'''Case Study: Grade Calculator\n",
        "In this case study, you have to create a program that calculates the final\n",
        "grade for a student based on their scores in different assessments. The\n",
        "program will take input from the user, perform calculations, and display the\n",
        "final grade along with additional information.\n",
        "Requirements:\n",
        "1. The program should prompt the user to enter the following information:\n",
        "• Student's name\n",
        "• Number of assessments (e.g., assignments, quizzes, exams)\n",
        "• Weight (percentage) of each assessment type\n",
        "2. For each assessment type, the program should ask the user to enter:\n",
        "• Number of assessments of that type\n",
        "• Score obtained for each assessment.\n",
        "3. The program should calculate the weighted average score for each\n",
        "assessment type.\n",
        "4. The program should then calculate the final grade using the weighted\n",
        "average scores and the weights provided by the user.\n",
        "5. The program should display the following information:\n",
        "• Student's name\n",
        "• Weighted average score for each assessment type\n",
        "• Final grade\n",
        "• Letter grade based on a grading scale (e.g., A, B, C, D, F)\n",
        "6. The program should have a function to determine the letter grade based\n",
        "on the final grade'''"
      ],
      "metadata": {
        "colab": {
          "base_uri": "https://localhost:8080/",
          "height": 128
        },
        "id": "qVnYxHoM4SiD",
        "outputId": "90c8cdb7-3dc1-4e24-812f-1e020cfdb02e"
      },
      "execution_count": 72,
      "outputs": [
        {
          "output_type": "execute_result",
          "data": {
            "text/plain": [
              "\"Case Study: Grade Calculator\\nIn this case study, you have to create a program that calculates the final\\ngrade for a student based on their scores in different assessments. The\\nprogram will take input from the user, perform calculations, and display the\\nfinal grade along with additional information.\\nRequirements:\\n1. The program should prompt the user to enter the following information:\\n• Student's name\\n• Number of assessments (e.g., assignments, quizzes, exams)\\n• Weight (percentage) of each assessment type\\n2. For each assessment type, the program should ask the user to enter:\\n• Number of assessments of that type\\n• Score obtained for each assessment.\\n3. The program should calculate the weighted average score for each\\nassessment type.\\n4. The program should then calculate the final grade using the weighted\\naverage scores and the weights provided by the user.\\n5. The program should display the following information:\\n• Student's name\\n• Weighted average score for each assessment type\\n• Final grade\\n• Letter grade based on a grading scale (e.g., A, B, C, D, F)\\n6. The program should have a function to determine the letter grade based\\non the final grade\""
            ],
            "application/vnd.google.colaboratory.intrinsic+json": {
              "type": "string"
            }
          },
          "metadata": {},
          "execution_count": 72
        }
      ]
    },
    {
      "cell_type": "code",
      "source": [],
      "metadata": {
        "id": "9B7xAWWR41d1"
      },
      "execution_count": null,
      "outputs": []
    }
  ]
}