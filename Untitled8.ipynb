{
  "nbformat": 4,
  "nbformat_minor": 0,
  "metadata": {
    "colab": {
      "provenance": []
    },
    "kernelspec": {
      "name": "python3",
      "display_name": "Python 3"
    },
    "language_info": {
      "name": "python"
    }
  },
  "cells": [
    {
      "cell_type": "code",
      "execution_count": 11,
      "metadata": {
        "colab": {
          "base_uri": "https://localhost:8080/"
        },
        "id": "O95abiUSLGne",
        "outputId": "795fe10c-a75d-4e3b-b7af-5b7036f83df3"
      },
      "outputs": [
        {
          "output_type": "stream",
          "name": "stdout",
          "text": [
            "165\n"
          ]
        }
      ],
      "source": [
        "count = 0\n",
        "for num in range(5,501):\n",
        "  if (num%3==0):\n",
        "    count = count+1\n",
        "print(count)"
      ]
    },
    {
      "cell_type": "code",
      "source": [
        "word = 'python programming'\n",
        "for letter in word:\n",
        "  print(letter,end='')"
      ],
      "metadata": {
        "colab": {
          "base_uri": "https://localhost:8080/"
        },
        "id": "SZDNp-nzNF-k",
        "outputId": "91468da2-2c86-4933-9a27-0a93a1a8ae8e"
      },
      "execution_count": 12,
      "outputs": [
        {
          "output_type": "stream",
          "name": "stdout",
          "text": [
            "python programming"
          ]
        }
      ]
    },
    {
      "cell_type": "code",
      "source": [
        "'''WAP to print the sum of elements in a given list'''\n",
        "s = 0\n",
        "li = [25,32,88,79,52,46]\n",
        "for n in li:\n",
        "  s=s+n\n",
        "print(s)"
      ],
      "metadata": {
        "colab": {
          "base_uri": "https://localhost:8080/"
        },
        "id": "AnSEpHIvOB86",
        "outputId": "e6931ca8-8b65-4909-87e1-a5d248dcb123"
      },
      "execution_count": 15,
      "outputs": [
        {
          "output_type": "stream",
          "name": "stdout",
          "text": [
            "322\n"
          ]
        }
      ]
    },
    {
      "cell_type": "code",
      "source": [
        "# while loop\n",
        "i=0\n",
        "while(i!=10):\n",
        " print(i)\n",
        " i+=2"
      ],
      "metadata": {
        "colab": {
          "base_uri": "https://localhost:8080/"
        },
        "id": "QGQhEqoLPQmh",
        "outputId": "66ba66ba-bb0a-44a7-e045-a03165a7b669"
      },
      "execution_count": 17,
      "outputs": [
        {
          "output_type": "stream",
          "name": "stdout",
          "text": [
            "0\n",
            "2\n",
            "4\n",
            "6\n",
            "8\n"
          ]
        }
      ]
    },
    {
      "cell_type": "code",
      "source": [
        "l1 = [5,15,22,32,46,89]\n",
        "even=[]\n",
        "odd=[]\n",
        "\n",
        "while len(l1)>0:\n",
        "  l=l1.pop()\n",
        "  if l%2==0:\n",
        "    even.append(l)\n",
        "  else:\n",
        "    odd.append(l)\n",
        "print(even)\n",
        "print(odd)\n"
      ],
      "metadata": {
        "colab": {
          "base_uri": "https://localhost:8080/"
        },
        "id": "RKUF7RMDRiNj",
        "outputId": "b1c777ce-a9d3-4a2b-be2d-cbd153e7d9e0"
      },
      "execution_count": 27,
      "outputs": [
        {
          "output_type": "stream",
          "name": "stdout",
          "text": [
            "[46, 32, 22]\n",
            "[89, 15, 5]\n"
          ]
        }
      ]
    },
    {
      "cell_type": "code",
      "source": [
        "'''WAP that allows the user to input the names until the user decidws to stop. then,print all the names the user has entered'''\n"
      ],
      "metadata": {
        "id": "LTCEFpKhTtf3"
      },
      "execution_count": null,
      "outputs": []
    },
    {
      "cell_type": "code",
      "source": [
        "# break\n",
        "i =1\n",
        "while(i<10):\n",
        "  if i==5:\n",
        "print(i)\n",
        "i=i+1"
      ],
      "metadata": {
        "colab": {
          "base_uri": "https://localhost:8080/",
          "height": 110
        },
        "id": "EWZOvC__Xys7",
        "outputId": "09a71ae4-c4a3-4c57-a74d-aa0f9157860e"
      },
      "execution_count": 28,
      "outputs": [
        {
          "output_type": "error",
          "ename": "IndentationError",
          "evalue": "expected an indented block after 'if' statement on line 4 (<ipython-input-28-dbd893ac5fc1>, line 5)",
          "traceback": [
            "\u001b[0;36m  File \u001b[0;32m\"<ipython-input-28-dbd893ac5fc1>\"\u001b[0;36m, line \u001b[0;32m5\u001b[0m\n\u001b[0;31m    print(i)\u001b[0m\n\u001b[0m            ^\u001b[0m\n\u001b[0;31mIndentationError\u001b[0m\u001b[0;31m:\u001b[0m expected an indented block after 'if' statement on line 4\n"
          ]
        }
      ]
    }
  ]
}