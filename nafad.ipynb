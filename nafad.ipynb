{
  "nbformat": 4,
  "nbformat_minor": 0,
  "metadata": {
    "colab": {
      "provenance": []
    },
    "kernelspec": {
      "name": "python3",
      "display_name": "Python 3"
    },
    "language_info": {
      "name": "python"
    }
  },
  "cells": [
    {
      "cell_type": "code",
      "execution_count": null,
      "metadata": {
        "colab": {
          "base_uri": "https://localhost:8080/",
          "height": 35
        },
        "id": "PhxBzgOjj2rg",
        "outputId": "4c6f3d63-9545-4164-d0da-1dac830992ae"
      },
      "outputs": [
        {
          "output_type": "execute_result",
          "data": {
            "text/plain": [
              "'1.Write a Python program to find the area of a circle with a given radius using the formula area = pi * r ** 2. Assume that pi is 3.14.'"
            ],
            "application/vnd.google.colaboratory.intrinsic+json": {
              "type": "string"
            }
          },
          "metadata": {},
          "execution_count": 4
        }
      ],
      "source": [
        "'''1.Write a Python program to find the area of a circle with a given radius using the formula area = pi * r ** 2. Assume that pi is 3.14.'''"
      ]
    },
    {
      "cell_type": "code",
      "source": [
        "r = int(input('enter the radius of the circle:'))\n",
        "pi = 3.14\n",
        "area =pi * r ** 2\n",
        "print('the area of the circle is',area)"
      ],
      "metadata": {
        "colab": {
          "base_uri": "https://localhost:8080/"
        },
        "id": "V71u6TrbkAoC",
        "outputId": "01078362-555a-4026-96ae-947f607e6661"
      },
      "execution_count": null,
      "outputs": [
        {
          "output_type": "stream",
          "name": "stdout",
          "text": [
            "enter the radius of the circle:5\n",
            "the area of the circle is 78.5\n"
          ]
        }
      ]
    },
    {
      "cell_type": "code",
      "source": [
        "'''2. Write a Python program to convert Celsius to Fahrenheit using the formula F = (C * 9/5) + 32.'''"
      ],
      "metadata": {
        "colab": {
          "base_uri": "https://localhost:8080/",
          "height": 35
        },
        "id": "g_dklHS9kFwX",
        "outputId": "c3e46916-b22c-413d-cacd-a888fd81f9aa"
      },
      "execution_count": null,
      "outputs": [
        {
          "output_type": "execute_result",
          "data": {
            "text/plain": [
              "'2. Write a Python program to convert Celsius to Fahrenheit using the formula F = (C * 9/5) + 32.'"
            ],
            "application/vnd.google.colaboratory.intrinsic+json": {
              "type": "string"
            }
          },
          "metadata": {},
          "execution_count": 2
        }
      ]
    },
    {
      "cell_type": "code",
      "source": [
        "C = float(input('Enter the celsius:'))\n",
        "F =((C * 9/5) + 32.)\n",
        "print('Fahrenheit:',F)"
      ],
      "metadata": {
        "colab": {
          "base_uri": "https://localhost:8080/"
        },
        "id": "JvBt9bhwkLjI",
        "outputId": "15cb4782-ebb1-4d0f-9ca3-3ceededbfe6e"
      },
      "execution_count": null,
      "outputs": [
        {
          "output_type": "stream",
          "name": "stdout",
          "text": [
            "Enter the celsius:50\n",
            "Fahrenheit: 122.0\n"
          ]
        }
      ]
    },
    {
      "cell_type": "code",
      "source": [
        "'''3. Write a Python program to find the quotient and remainder of two numbers using the division operator / and the modulo operator %.,,,"
      ],
      "metadata": {
        "id": "mhTsFvBpkRrU"
      },
      "execution_count": null,
      "outputs": []
    },
    {
      "cell_type": "code",
      "source": [
        "a = int(input('Enter the first number:'))\n",
        "b =int(input('Enter the second number:'))\n",
        "q = a//b\n",
        "m = a%b\n",
        "print(q)\n",
        "print(m)"
      ],
      "metadata": {
        "colab": {
          "base_uri": "https://localhost:8080/"
        },
        "id": "5U-wsB_Iktw6",
        "outputId": "2c2a2374-506b-44d9-d970-1fa877bc140c"
      },
      "execution_count": null,
      "outputs": [
        {
          "output_type": "stream",
          "name": "stdout",
          "text": [
            "Enter the first number:5\n",
            "Enter the second number:6\n",
            "0\n",
            "5\n"
          ]
        }
      ]
    },
    {
      "cell_type": "code",
      "source": [
        "'''4. Write a Python program to check whether a given number is even or odd using the modulo operator %.'''"
      ],
      "metadata": {
        "colab": {
          "base_uri": "https://localhost:8080/",
          "height": 35
        },
        "id": "5s9Q04__k4EI",
        "outputId": "9ab5e436-85cf-4601-d583-ac62c5f246f1"
      },
      "execution_count": null,
      "outputs": [
        {
          "output_type": "execute_result",
          "data": {
            "text/plain": [
              "'4. Write a Python program to check whether a given number is even or odd using the modulo operator %.'"
            ],
            "application/vnd.google.colaboratory.intrinsic+json": {
              "type": "string"
            }
          },
          "metadata": {},
          "execution_count": 6
        }
      ]
    },
    {
      "cell_type": "code",
      "source": [
        "a = int(input('Enter the number:'))\n",
        "if(a % 2==0):\n",
        "  print(\"the number is even\")\n",
        "else:\n",
        "  print(\"the number is odd\")"
      ],
      "metadata": {
        "colab": {
          "base_uri": "https://localhost:8080/"
        },
        "id": "Q_tEA1gMlFWA",
        "outputId": "2c5adb10-e2b8-42c2-a7ea-834d020620a1"
      },
      "execution_count": null,
      "outputs": [
        {
          "output_type": "stream",
          "name": "stdout",
          "text": [
            "Enter the number:55\n",
            "the number is odd\n"
          ]
        }
      ]
    },
    {
      "cell_type": "code",
      "source": [
        "'''5. Write a Python program to calculate the average of three numbers entered by the user.'''"
      ],
      "metadata": {
        "colab": {
          "base_uri": "https://localhost:8080/",
          "height": 35
        },
        "id": "Qs3PSIP6lKy-",
        "outputId": "8feb79a0-5c87-4e29-fabe-2054baeda700"
      },
      "execution_count": null,
      "outputs": [
        {
          "output_type": "execute_result",
          "data": {
            "text/plain": [
              "'5. Write a Python program to calculate the average of three numbers entered by the user.'"
            ],
            "application/vnd.google.colaboratory.intrinsic+json": {
              "type": "string"
            }
          },
          "metadata": {},
          "execution_count": 8
        }
      ]
    },
    {
      "cell_type": "code",
      "source": [
        "a = float(input('Enter the first number:'))\n",
        "b = float(input('Enter the second number:'))\n",
        "c = float(input('Enter the third number:'))\n",
        "avg = (a+b+c)/3\n",
        "print(avg)"
      ],
      "metadata": {
        "colab": {
          "base_uri": "https://localhost:8080/"
        },
        "id": "DMkRp2qylTxr",
        "outputId": "764ebf11-ee7d-4d81-d66d-bcc29c57488d"
      },
      "execution_count": null,
      "outputs": [
        {
          "output_type": "stream",
          "name": "stdout",
          "text": [
            "Enter the first number:15\n",
            "Enter the second number:16\n",
            "Enter the third number:17\n",
            "16.0\n"
          ]
        }
      ]
    },
    {
      "cell_type": "code",
      "source": [
        "'''6. Write a Python program to swap two variables without using a temporary variable.'''"
      ],
      "metadata": {
        "colab": {
          "base_uri": "https://localhost:8080/",
          "height": 35
        },
        "id": "qjSz_P4UleiC",
        "outputId": "2075d224-a965-4f6f-ddd9-d453ab19ca05"
      },
      "execution_count": null,
      "outputs": [
        {
          "output_type": "execute_result",
          "data": {
            "text/plain": [
              "'6. Write a Python program to swap two variables without using a temporary variable.'"
            ],
            "application/vnd.google.colaboratory.intrinsic+json": {
              "type": "string"
            }
          },
          "metadata": {},
          "execution_count": 10
        }
      ]
    },
    {
      "cell_type": "code",
      "source": [
        "a = 20\n",
        "b = 40\n",
        "a = a+b\n",
        "b = a-b\n",
        "a = a-b\n",
        "print(a)\n",
        "print(b)"
      ],
      "metadata": {
        "colab": {
          "base_uri": "https://localhost:8080/"
        },
        "id": "jreHpn30lyk6",
        "outputId": "7a3d44b1-cffc-4013-ceb4-a5a908c2ed45"
      },
      "execution_count": null,
      "outputs": [
        {
          "output_type": "stream",
          "name": "stdout",
          "text": [
            "40\n",
            "20\n"
          ]
        }
      ]
    },
    {
      "cell_type": "code",
      "source": [
        "'''7. Write a Python program to calculate the area of a rectangle with given length and breadth.'''"
      ],
      "metadata": {
        "colab": {
          "base_uri": "https://localhost:8080/",
          "height": 35
        },
        "id": "0WYux84Xl-we",
        "outputId": "2afa9e0c-aa45-4ebf-efab-736d7025566d"
      },
      "execution_count": null,
      "outputs": [
        {
          "output_type": "execute_result",
          "data": {
            "text/plain": [
              "'7. Write a Python program to calculate the area of a rectangle with given length and breadth.'"
            ],
            "application/vnd.google.colaboratory.intrinsic+json": {
              "type": "string"
            }
          },
          "metadata": {},
          "execution_count": 12
        }
      ]
    },
    {
      "cell_type": "code",
      "source": [
        "a = float(input('Enter the lenght:'))\n",
        "b = float(input('Enter the Breadth:'))\n",
        "area = a*b\n",
        "print('The area is:',area)\n"
      ],
      "metadata": {
        "colab": {
          "base_uri": "https://localhost:8080/"
        },
        "id": "cxfDfxAJmIx9",
        "outputId": "cfeb49cd-f60b-44bc-e5c9-a60a90edcc9b"
      },
      "execution_count": null,
      "outputs": [
        {
          "output_type": "stream",
          "name": "stdout",
          "text": [
            "Enter the lenght:5\n",
            "Enter the Breadth:6\n",
            "The area is: 30.0\n"
          ]
        }
      ]
    },
    {
      "cell_type": "code",
      "source": [
        "'''8. Write a Python program to calculate the sum of the digits of a three-digit number.'''"
      ],
      "metadata": {
        "colab": {
          "base_uri": "https://localhost:8080/",
          "height": 35
        },
        "id": "2N5HbjoomuRN",
        "outputId": "5b4211c0-d188-4893-cea0-adca62885e77"
      },
      "execution_count": null,
      "outputs": [
        {
          "output_type": "execute_result",
          "data": {
            "text/plain": [
              "'8. Write a Python program to calculate the sum of the digits of a three-digit number.'"
            ],
            "application/vnd.google.colaboratory.intrinsic+json": {
              "type": "string"
            }
          },
          "metadata": {},
          "execution_count": 16
        }
      ]
    },
    {
      "cell_type": "code",
      "source": [
        "num = 256\n",
        "sum = num//100+(num%100)//10+num%10\n",
        "print(sum)"
      ],
      "metadata": {
        "colab": {
          "base_uri": "https://localhost:8080/"
        },
        "id": "Uej0dqkAm0d0",
        "outputId": "e0f58f49-081c-4620-b560-995d5f71b0ec"
      },
      "execution_count": null,
      "outputs": [
        {
          "output_type": "stream",
          "name": "stdout",
          "text": [
            "13\n"
          ]
        }
      ]
    },
    {
      "cell_type": "code",
      "source": [
        "'''9. Write a Python program to check whether a given year is a leap year or not.'''"
      ],
      "metadata": {
        "colab": {
          "base_uri": "https://localhost:8080/",
          "height": 35
        },
        "id": "SL_OFneAnD_L",
        "outputId": "84aba46b-365e-4e31-f102-cb688f58b343"
      },
      "execution_count": null,
      "outputs": [
        {
          "output_type": "execute_result",
          "data": {
            "text/plain": [
              "'9. Write a Python program to check whether a given year is a leap year or not.'"
            ],
            "application/vnd.google.colaboratory.intrinsic+json": {
              "type": "string"
            }
          },
          "metadata": {},
          "execution_count": 19
        }
      ]
    },
    {
      "cell_type": "code",
      "source": [
        "year=int(input('enter the year'))\n",
        "if(year%4==0 or year%400==0):\n",
        "  print('its a leap year')\n",
        "else:\n",
        "   print('Its not a leap year')"
      ],
      "metadata": {
        "colab": {
          "base_uri": "https://localhost:8080/"
        },
        "id": "qfGsJT8dnM4M",
        "outputId": "e4c1c0c0-5763-42c7-e5e6-8d6a9c4167b5"
      },
      "execution_count": null,
      "outputs": [
        {
          "output_type": "stream",
          "name": "stdout",
          "text": [
            "enter the year2024\n",
            "its a leap year\n"
          ]
        }
      ]
    },
    {
      "cell_type": "code",
      "source": [
        "'''10.Write a Python program to find the maximum and minimum of two numbers entered by the user'''"
      ],
      "metadata": {
        "colab": {
          "base_uri": "https://localhost:8080/",
          "height": 35
        },
        "id": "kCSaMJQHnWTs",
        "outputId": "5772eb29-4847-42d7-dcec-a259ac2ba6b7"
      },
      "execution_count": null,
      "outputs": [
        {
          "output_type": "execute_result",
          "data": {
            "text/plain": [
              "'10.Write a Python program to find the maximum and minimum of two numbers entered by the user'"
            ],
            "application/vnd.google.colaboratory.intrinsic+json": {
              "type": "string"
            }
          },
          "metadata": {},
          "execution_count": 21
        }
      ]
    },
    {
      "cell_type": "code",
      "source": [
        "a=(int(input('enter the frist number')))\n",
        "b=int(input(\"enter the scond number\"))\n",
        "if(a>b):\n",
        "  print('In both numbers ',a,' is great',)\n",
        "elif(a==b):\n",
        "  print('both are equal')\n",
        "else:\n",
        "   print('In both numbers ',b,' is great',)"
      ],
      "metadata": {
        "colab": {
          "base_uri": "https://localhost:8080/"
        },
        "id": "_RZT15rFnbdz",
        "outputId": "ebb15877-ae92-4668-c46c-5ed2320d4a03"
      },
      "execution_count": null,
      "outputs": [
        {
          "output_type": "stream",
          "name": "stdout",
          "text": [
            "enter the frist number15\n",
            "enter the scond number18\n",
            "In both numbers  18  is great\n"
          ]
        }
      ]
    },
    {
      "cell_type": "code",
      "source": [],
      "metadata": {
        "id": "C2gqhKOJnwRo"
      },
      "execution_count": null,
      "outputs": []
    }
  ]
}